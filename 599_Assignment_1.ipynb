{
  "nbformat": 4,
  "nbformat_minor": 0,
  "metadata": {
    "colab": {
      "name": "599_Assignment_1.ipynb",
      "provenance": [],
      "authorship_tag": "ABX9TyPVTHAYAmP8DZKjnxGXVg0Z",
      "include_colab_link": true
    },
    "kernelspec": {
      "name": "python3",
      "display_name": "Python 3"
    },
    "language_info": {
      "name": "python"
    }
  },
  "cells": [
    {
      "cell_type": "markdown",
      "metadata": {
        "id": "view-in-github",
        "colab_type": "text"
      },
      "source": [
        "<a href=\"https://colab.research.google.com/github/irukullaapoorva/NLP/blob/main/599_Assignment_1.ipynb\" target=\"_parent\"><img src=\"https://colab.research.google.com/assets/colab-badge.svg\" alt=\"Open In Colab\"/></a>"
      ]
    },
    {
      "cell_type": "markdown",
      "source": [
        "Are you fascinated by the amount of text data available on the internet? Are you looking for ways to work with this text data but aren’t sure where to begin? Machines, after all, recognize numbers,  not  the  letters  of  our  language.  And  that  can  be  a  tricky  landscape  to  navigate  in \n",
        "machine learning.Solving an NLP problem is a multi-stage process. We need to clean the unstructured text data first before we can even think about getting to the modelling stage. Cleaning the data consists of a few key steps.\n",
        "1. Split the above paragraph into sentences\n"
      ],
      "metadata": {
        "id": "k68R7DBuL3e1"
      }
    },
    {
      "cell_type": "code",
      "source": [
        "import nltk\n",
        "nltk.download('punkt')\n",
        "\n",
        "#Intializing the tokenizer with variable called token\n",
        "token = nltk.data.load('tokenizers/punkt/english.pickle')\n",
        "\n",
        "para = \"Are you fascinated by the amount of text data available on the internet? Are you looking for ways to work with this text data but aren’t sure where to begin? Machines, after all, recognize numbers, not the letters of our language. And that can be a tricky landscape to navigate in machine learning. Solving an NLP problem is a multi-stage process. We need to clean the unstructured text data first before we can even think about getting to the modelling stage. Cleaning the data consists of a few key steps.\"\n",
        "\n",
        "print(token.tokenize(para))"
      ],
      "metadata": {
        "colab": {
          "base_uri": "https://localhost:8080/"
        },
        "id": "bIZv22aN1ASi",
        "outputId": "abc6e140-9f52-4ed0-c919-ff197ad12587"
      },
      "execution_count": 6,
      "outputs": [
        {
          "output_type": "stream",
          "name": "stdout",
          "text": [
            "['Are you fascinated by the amount of text data available on the internet?', 'Are you looking for ways to work with this text data but aren’t sure where to begin?', 'Machines, after all, recognize numbers, not the letters of our language.', 'And that can be a tricky landscape to navigate in machine learning.', 'Solving an NLP problem is a multi-stage process.', 'We need to clean the unstructured text data first before we can even think about getting to the modelling stage.', 'Cleaning the data consists of a few key steps.']\n"
          ]
        },
        {
          "output_type": "stream",
          "name": "stderr",
          "text": [
            "[nltk_data] Downloading package punkt to /root/nltk_data...\n",
            "[nltk_data]   Package punkt is already up-to-date!\n"
          ]
        }
      ]
    },
    {
      "cell_type": "markdown",
      "source": [
        "Are you fascinated by the amount of text data available on the internet? Are you looking for ways to work with this text data but aren’t sure where tobegin? Machines, after all, recognize numbers,  not  the  letters  of  our  language.  And  that  can  be  a  tricky  landscape  to  navigate  in machine learning.Solving an NLP problem is a multi-stage process. We need to clean the\n",
        "unstructured text data first before we can even think about getting to the modelling stage. Cleaning the data consists of a few key steps.\n",
        "\n",
        "2. Split the above paragraph into words"
      ],
      "metadata": {
        "id": "7ApOLg6gLp0r"
      }
    },
    {
      "cell_type": "code",
      "source": [
        "#Tokenizing the same paragraph into words\n",
        "print(nltk.tokenize.word_tokenize(para))"
      ],
      "metadata": {
        "colab": {
          "base_uri": "https://localhost:8080/"
        },
        "id": "_LT7yB5s13iO",
        "outputId": "2172f65e-8438-4ed9-8489-da54ce833314"
      },
      "execution_count": 7,
      "outputs": [
        {
          "output_type": "stream",
          "name": "stdout",
          "text": [
            "['Are', 'you', 'fascinated', 'by', 'the', 'amount', 'of', 'text', 'data', 'available', 'on', 'the', 'internet', '?', 'Are', 'you', 'looking', 'for', 'ways', 'to', 'work', 'with', 'this', 'text', 'data', 'but', 'aren', '’', 't', 'sure', 'where', 'to', 'begin', '?', 'Machines', ',', 'after', 'all', ',', 'recognize', 'numbers', ',', 'not', 'the', 'letters', 'of', 'our', 'language', '.', 'And', 'that', 'can', 'be', 'a', 'tricky', 'landscape', 'to', 'navigate', 'in', 'machine', 'learning', '.', 'Solving', 'an', 'NLP', 'problem', 'is', 'a', 'multi-stage', 'process', '.', 'We', 'need', 'to', 'clean', 'the', 'unstructured', 'text', 'data', 'first', 'before', 'we', 'can', 'even', 'think', 'about', 'getting', 'to', 'the', 'modelling', 'stage', '.', 'Cleaning', 'the', 'data', 'consists', 'of', 'a', 'few', 'key', 'steps', '.']\n"
          ]
        }
      ]
    },
    {
      "cell_type": "markdown",
      "source": [
        "8. Find BoW for the given paragraph? And also find stem and lemma words?"
      ],
      "metadata": {
        "id": "V9FHLWqQjdIO"
      }
    },
    {
      "cell_type": "code",
      "source": [
        "from sklearn.feature_extraction.text import CountVectorizer\n",
        "from nltk.tokenize import word_tokenize\n",
        "from nltk.stem.porter import *\n",
        "stemmer=PorterStemmer()\n",
        "import pandas as pd\n",
        "paragraph = \"Text Summarization is one of those applications of Natural Language Processing (NLP) which is bound to have a huge impact on our lives. With growing digital media and ever-growing publishing – who has the time to go through entire articles / documents / books to decide whether they are useful or not? Thankfully – this technology is already here.\"\n",
        "count_vec = CountVectorizer()\n",
        "count_occurs = count_vec.fit_transform([paragraph])\n",
        "count_occur_df = pd.DataFrame((count, word) for word, count in zip(count_occurs.toarray().tolist()[0], count_vec.get_feature_names()))\n",
        "count_occur_df.columns = ['WORD','FREQUENCY']\n",
        "print(count_occur_df)"
      ],
      "metadata": {
        "id": "bZ93vVD25fUX",
        "colab": {
          "base_uri": "https://localhost:8080/"
        },
        "outputId": "4a62421b-56ac-4722-969d-6b89743c2f33"
      },
      "execution_count": 20,
      "outputs": [
        {
          "output_type": "stream",
          "name": "stdout",
          "text": [
            "             WORD  FREQUENCY\n",
            "0         already          1\n",
            "1             and          1\n",
            "2    applications          1\n",
            "3             are          1\n",
            "4        articles          1\n",
            "5           books          1\n",
            "6           bound          1\n",
            "7          decide          1\n",
            "8         digital          1\n",
            "9       documents          1\n",
            "10         entire          1\n",
            "11           ever          1\n",
            "12             go          1\n",
            "13        growing          2\n",
            "14            has          1\n",
            "15           have          1\n",
            "16           here          1\n",
            "17           huge          1\n",
            "18         impact          1\n",
            "19             is          3\n",
            "20       language          1\n",
            "21          lives          1\n",
            "22          media          1\n",
            "23        natural          1\n",
            "24            nlp          1\n",
            "25            not          1\n",
            "26             of          2\n",
            "27             on          1\n",
            "28            one          1\n",
            "29             or          1\n",
            "30            our          1\n",
            "31     processing          1\n",
            "32     publishing          1\n",
            "33  summarization          1\n",
            "34     technology          1\n",
            "35           text          1\n",
            "36     thankfully          1\n",
            "37            the          1\n",
            "38           they          1\n",
            "39           this          1\n",
            "40          those          1\n",
            "41        through          1\n",
            "42           time          1\n",
            "43             to          3\n",
            "44         useful          1\n",
            "45        whether          1\n",
            "46          which          1\n",
            "47            who          1\n",
            "48           with          1\n"
          ]
        },
        {
          "output_type": "stream",
          "name": "stderr",
          "text": [
            "/usr/local/lib/python3.7/dist-packages/sklearn/utils/deprecation.py:87: FutureWarning: Function get_feature_names is deprecated; get_feature_names is deprecated in 1.0 and will be removed in 1.2. Please use get_feature_names_out instead.\n",
            "  warnings.warn(msg, category=FutureWarning)\n"
          ]
        }
      ]
    },
    {
      "cell_type": "code",
      "source": [
        "# stem words in paragraph\n",
        "text = word_tokenize(paragraph)\n",
        "for word in text:\n",
        "  stemword = stemmer.stem(word)\n",
        "  print(stemword)"
      ],
      "metadata": {
        "id": "XZ_5WDDKD9G1",
        "colab": {
          "base_uri": "https://localhost:8080/"
        },
        "outputId": "033605f5-4fce-444b-c729-968fffab0756"
      },
      "execution_count": 21,
      "outputs": [
        {
          "output_type": "stream",
          "name": "stdout",
          "text": [
            "text\n",
            "summar\n",
            "is\n",
            "one\n",
            "of\n",
            "those\n",
            "applic\n",
            "of\n",
            "natur\n",
            "languag\n",
            "process\n",
            "(\n",
            "nlp\n",
            ")\n",
            "which\n",
            "is\n",
            "bound\n",
            "to\n",
            "have\n",
            "a\n",
            "huge\n",
            "impact\n",
            "on\n",
            "our\n",
            "live\n",
            ".\n",
            "with\n",
            "grow\n",
            "digit\n",
            "media\n",
            "and\n",
            "ever-grow\n",
            "publish\n",
            "–\n",
            "who\n",
            "ha\n",
            "the\n",
            "time\n",
            "to\n",
            "go\n",
            "through\n",
            "entir\n",
            "articl\n",
            "/\n",
            "document\n",
            "/\n",
            "book\n",
            "to\n",
            "decid\n",
            "whether\n",
            "they\n",
            "are\n",
            "use\n",
            "or\n",
            "not\n",
            "?\n",
            "thank\n",
            "–\n",
            "thi\n",
            "technolog\n",
            "is\n",
            "alreadi\n",
            "here\n",
            ".\n"
          ]
        }
      ]
    },
    {
      "cell_type": "code",
      "source": [
        "# lemma words in paragraph\n",
        "for word in text:\n",
        "  w = Word(word)\n",
        "  lemmaword = w.lemmatize()\n",
        "  print(lemmaword)"
      ],
      "metadata": {
        "id": "TRFIOhZDFmAx",
        "colab": {
          "base_uri": "https://localhost:8080/"
        },
        "outputId": "3b0ef6a3-7cac-41bd-b35f-adea4dad2def"
      },
      "execution_count": 22,
      "outputs": [
        {
          "output_type": "stream",
          "name": "stdout",
          "text": [
            "Text\n",
            "Summarization\n",
            "is\n",
            "one\n",
            "of\n",
            "those\n",
            "application\n",
            "of\n",
            "Natural\n",
            "Language\n",
            "Processing\n",
            "(\n",
            "NLP\n",
            ")\n",
            "which\n",
            "is\n",
            "bound\n",
            "to\n",
            "have\n",
            "a\n",
            "huge\n",
            "impact\n",
            "on\n",
            "our\n",
            "life\n",
            ".\n",
            "With\n",
            "growing\n",
            "digital\n",
            "medium\n",
            "and\n",
            "ever-growing\n",
            "publishing\n",
            "–\n",
            "who\n",
            "ha\n",
            "the\n",
            "time\n",
            "to\n",
            "go\n",
            "through\n",
            "entire\n",
            "article\n",
            "/\n",
            "document\n",
            "/\n",
            "book\n",
            "to\n",
            "decide\n",
            "whether\n",
            "they\n",
            "are\n",
            "useful\n",
            "or\n",
            "not\n",
            "?\n",
            "Thankfully\n",
            "–\n",
            "this\n",
            "technology\n",
            "is\n",
            "already\n",
            "here\n",
            ".\n"
          ]
        }
      ]
    }
  ]
}